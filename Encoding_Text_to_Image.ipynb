{
  "nbformat": 4,
  "nbformat_minor": 0,
  "metadata": {
    "colab": {
      "provenance": [],
      "authorship_tag": "ABX9TyM+GzN8ArvhUErWlUTpBdR3",
      "include_colab_link": true
    },
    "kernelspec": {
      "name": "python3",
      "display_name": "Python 3"
    },
    "language_info": {
      "name": "python"
    }
  },
  "cells": [
    {
      "cell_type": "markdown",
      "metadata": {
        "id": "view-in-github",
        "colab_type": "text"
      },
      "source": [
        "<a href=\"https://colab.research.google.com/github/IqmanS/Encoding-Text-to-Image/blob/main/Encoding_Text_to_Image.ipynb\" target=\"_parent\"><img src=\"https://colab.research.google.com/assets/colab-badge.svg\" alt=\"Open In Colab\"/></a>"
      ]
    },
    {
      "cell_type": "code",
      "execution_count": 43,
      "metadata": {
        "colab": {
          "base_uri": "https://localhost:8080/"
        },
        "id": "wUxrLDNlfr1W",
        "outputId": "57562400-9fd4-4e34-dd96-a5bb1e099820"
      },
      "outputs": [
        {
          "output_type": "stream",
          "name": "stdout",
          "text": [
            "Looking in indexes: https://pypi.org/simple, https://us-python.pkg.dev/colab-wheels/public/simple/\n",
            "Requirement already satisfied: text-to-image in /usr/local/lib/python3.10/dist-packages (0.0.5)\n",
            "Requirement already satisfied: Pillow in /usr/local/lib/python3.10/dist-packages (from text-to-image) (8.4.0)\n",
            "Looking in indexes: https://pypi.org/simple, https://us-python.pkg.dev/colab-wheels/public/simple/\n",
            "Requirement already satisfied: pillow in /usr/local/lib/python3.10/dist-packages (8.4.0)\n"
          ]
        }
      ],
      "source": [
        "!pip install text-to-image\n",
        "!pip install pillow"
      ]
    },
    {
      "cell_type": "code",
      "source": [
        "import text_to_image\n",
        "import PIL"
      ],
      "metadata": {
        "id": "5AwuQJU5fw1m"
      },
      "execution_count": 44,
      "outputs": []
    },
    {
      "cell_type": "markdown",
      "source": [
        "# **Text to Image Encoding**\n"
      ],
      "metadata": {
        "id": "znPtNPdnsmAT"
      }
    },
    {
      "cell_type": "code",
      "source": [
        "text = \"\"\"Lorem Ipsum is simply dummy text of the printing and typesetting industry.\n",
        "        Lorem Ipsum has been the industry's standard dummy text ever since the 1500s,\n",
        "        when an unknown printer took a galley of type and scrambled it to make a type\n",
        "        specimen book. It has survived not only five centuries, but also the leap into\n",
        "        electronic typesetting, remaining essentially unchanged. It was popularised\n",
        "        in the 1960s with the release of Letraset sheets containing Lorem Ipsum\n",
        "        passages, and more recently with desktop publishing software like Aldus\n",
        "        PageMaker including versions of Lorem Ipsum.\"\"\"\n",
        "\n",
        "encoded_image_path = text_to_image.encode(text, \"image.png\")"
      ],
      "metadata": {
        "id": "tn2sgQrmiZCO"
      },
      "execution_count": 45,
      "outputs": []
    },
    {
      "cell_type": "code",
      "source": [
        "img = PIL.Image.open(encoded_image_path)\n",
        "img.show()"
      ],
      "metadata": {
        "colab": {
          "base_uri": "https://localhost:8080/",
          "height": 34
        },
        "id": "HSWSIwI4gSHA",
        "outputId": "f9d7e007-6cb2-4619-ef3c-b348969bd5a9"
      },
      "execution_count": 46,
      "outputs": [
        {
          "output_type": "display_data",
          "data": {
            "text/plain": [
              "<PIL.PngImagePlugin.PngImageFile image mode=L size=53x12 at 0x7F3A54FBDAB0>"
            ],
            "image/png": "[encoded data removed]"
          },
          "metadata": {}
        }
      ]
    },
    {
      "cell_type": "code",
      "source": [
        "decoded_text = text_to_image.decode(encoded_image_path)\n",
        "decoded_text"
      ],
      "metadata": {
        "colab": {
          "base_uri": "https://localhost:8080/",
          "height": 104
        },
        "id": "yAlHjbVyhMyh",
        "outputId": "298b4263-b02d-4c09-80fe-a6e4d7a0d755"
      },
      "execution_count": 47,
      "outputs": [
        {
          "output_type": "execute_result",
          "data": {
            "text/plain": [
              "\"Lorem Ipsum is simply dummy text of the printing and typesetting industry.\\n        Lorem Ipsum has been the industry's standard dummy text ever since the 1500s, \\n        when an unknown printer took a galley of type and scrambled it to make a type \\n        specimen book. It has survived not only five centuries, but also the leap into\\n        electronic typesetting, remaining essentially unchanged. It was popularised\\n        in the 1960s with the release of Letraset sheets containing Lorem Ipsum \\n        passages, and more recently with desktop publishing software like Aldus \\n        PageMaker including versions of Lorem Ipsum.\""
            ],
            "application/vnd.google.colaboratory.intrinsic+json": {
              "type": "string"
            }
          },
          "metadata": {},
          "execution_count": 47
        }
      ]
    },
    {
      "cell_type": "markdown",
      "source": [
        "# **Text to Image Encoding from File**\n",
        "file_path: https://raw.githubusercontent.com/IqmanS/Encoding-Text-to-Image/main/input_file/input_file.txt"
      ],
      "metadata": {
        "id": "yKTzv5MmqmXi"
      }
    },
    {
      "cell_type": "code",
      "source": [
        "!wget https://raw.githubusercontent.com/IqmanS/Encoding-Text-to-Image/main/input_file/input_file.txt"
      ],
      "metadata": {
        "colab": {
          "base_uri": "https://localhost:8080/"
        },
        "id": "wbQM5duBhqHI",
        "outputId": "2e839212-7a39-4849-84ce-3688a0980156"
      },
      "execution_count": 48,
      "outputs": [
        {
          "output_type": "stream",
          "name": "stdout",
          "text": [
            "--2023-06-14 06:57:47--  https://raw.githubusercontent.com/IqmanS/Encoding-Text-to-Image/main/input_file/input_file.txt\n",
            "Resolving raw.githubusercontent.com (raw.githubusercontent.com)... 185.199.108.133, 185.199.109.133, 185.199.110.133, ...\n",
            "Connecting to raw.githubusercontent.com (raw.githubusercontent.com)|185.199.108.133|:443... connected.\n",
            "HTTP request sent, awaiting response... 200 OK\n",
            "Length: 2758 (2.7K) [text/plain]\n",
            "Saving to: ‘input_file.txt’\n",
            "\n",
            "\rinput_file.txt        0%[                    ]       0  --.-KB/s               \rinput_file.txt      100%[===================>]   2.69K  --.-KB/s    in 0s      \n",
            "\n",
            "2023-06-14 06:57:47 (41.1 MB/s) - ‘input_file.txt’ saved [2758/2758]\n",
            "\n"
          ]
        }
      ]
    },
    {
      "cell_type": "code",
      "source": [
        "encoded_file_path = text_to_image.encode_file(\"/content/input_file.txt\", \"output_image.png\")"
      ],
      "metadata": {
        "id": "waAkxFJLhnJS"
      },
      "execution_count": 49,
      "outputs": []
    },
    {
      "cell_type": "code",
      "source": [
        "decode = text_to_image.decode(encoded_file_path)\n",
        "decode"
      ],
      "metadata": {
        "colab": {
          "base_uri": "https://localhost:8080/",
          "height": 157
        },
        "id": "4XXNym39qicR",
        "outputId": "f0481cc5-3f64-46a4-bc83-0af5b9e2186b"
      },
      "execution_count": 50,
      "outputs": [
        {
          "output_type": "execute_result",
          "data": {
            "text/plain": [
              "'Lorem ipsum dolor sit amet, consectetur adipiscing elit. Curabitur non felis egestas, porttitor urna vel, pulvinar elit. Cras purus est, aliquet et gravida sed,\\nfacilisis vel arcu. Integer accumsan porta lacus, ac sagittis neque venenatis tempor. Vestibulum at molestie ante, maximus suscipit libero. Curabitur quis mi urna.\\nSed mattis non nisl vel volutpat. Vestibulum vitae ex consequat, imperdiet diam commodo, gravida sapien. Pellentesque euismod orci sed leo dictum tristique. \\nSuspendisse consectetur metus vel nibh luctus, ullamcorper finibus nunc aliquet. Curabitur at gravida metus. Praesent tempor libero et nisl posuere convallis. \\nIn at orci ipsum. Aenean ultrices consequat orci eu sodales.\\n\\nPhasellus quis sem eu sapien ullamcorper aliquet. In hac habitasse platea dictumst. Nullam aliquet magna vulputate mattis maximus. Mauris tellus nisi, fermentum \\ntincidunt sodales vitae, congue sodales ligula. Etiam cursus metus vitae metus consectetur faucibus. Quisque nec velit eleifend, vehicula neque quis, tempor lectus.\\nEtiam sodales et justo vel volutpat. Quisque ut magna id nulla congue commodo. Quisque facilisis volutpat diam ut bibendum. Fusce mi magna, rutrum non faucibus consectetur,\\nfringilla ac purus. Donec sapien libero, sodales et lorem accumsan, varius feugiat magna. Suspendisse potenti. Nulla ultrices ac metus quis tristique. Praesent pretium \\npulvinar sapien, at efficitur erat convallis nec. Nulla facilisi.\\n\\nSed fringilla purus tincidunt odio vestibulum hendrerit. Aliquam mauris nunc, efficitur a metus eget, iaculis tempus lorem. Duis consectetur ante erat, vitae bibendum leo \\naliquet at. Proin luctus eu sapien sed convallis. Cras at volutpat lorem. Phasellus sit amet sodales metus. Etiam mi nisl, varius eget mauris sed, tincidunt egestas mauris. \\nUt ullamcorper, est sit amet pellentesque semper, orci nibh lobortis mi, nec tincidunt eros metus at libero. Orci varius natoque penatibus et magnis dis parturient montes, \\nnascetur ridiculus mus. Donec rhoncus quam nisl, sed viverra neque sollicitudin eu. Phasellus ultrices vehicula diam, at maximus tellus aliquam malesuada. Morbi suscipit \\nviverra quam, non efficitur est dignissim sed. Proin at nisi in sem tempus varius ut eget nisi. Nulla malesuada ex sed eros tincidunt pretium. Nullam eget ante aliquam, \\nhendrerit velit eget, convallis magna. Sed finibus, diam eget elementum pharetra, augue lacus dapibus quam, non blandit tellus libero et urna. Vivamus sodales quam metus, \\nac congue enim efficitur et. Aenean erat mi, sagittis eu condimentum vel, finibus non urna. Fusce bibendum et est eget aliquet. Sed aliquam lacus ac libero vehicula, \\nvitae aliquam leo bibendum. Nunc porta ultricies eros, sed mattis tellus. Phasellus lacinia odio nec cursus viverra. \\n'"
            ],
            "application/vnd.google.colaboratory.intrinsic+json": {
              "type": "string"
            }
          },
          "metadata": {},
          "execution_count": 50
        }
      ]
    }
  ]
}